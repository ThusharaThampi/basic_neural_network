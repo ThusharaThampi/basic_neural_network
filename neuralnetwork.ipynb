{
 "cells": [
  {
   "cell_type": "code",
   "execution_count": 1,
   "id": "72fcf01f-960a-4947-8993-e8a08b61aac6",
   "metadata": {},
   "outputs": [],
   "source": [
    "import numpy as np\n",
    "import matplotlib.pyplot as plt"
   ]
  },
  {
   "cell_type": "code",
   "execution_count": 3,
   "id": "02e8d381-e579-4198-ba5d-30714c0b5884",
   "metadata": {},
   "outputs": [],
   "source": [
    "def initial_params(layer_dims):\n",
    "    np.random.seed(3)\n",
    "    params={}\n",
    "    L=len(layer_dims)\n",
    "    for l in range (1,L):\n",
    "        params['weights'+str(l)]=np.random.randn(layer_dims[l],layer_dims[l-1])*0.01\n",
    "        params['bias'+str(l)]=np.zeros((layer_dims[l],1))\n",
    "    return params"
   ]
  },
  {
   "cell_type": "code",
   "execution_count": 5,
   "id": "047498d2-ccf7-4fdd-968d-169b601544ba",
   "metadata": {},
   "outputs": [],
   "source": [
    "#sigmoid function\n",
    "def sigmoid(z):\n",
    "    sig=1/(1+np.exp(-z))\n",
    "    cache=(z)\n",
    "    return sig,cache"
   ]
  },
  {
   "cell_type": "code",
   "execution_count": 7,
   "id": "16fb87d1-06e6-4f80-968c-ecc5e9ce9c56",
   "metadata": {},
   "outputs": [],
   "source": [
    "#forward propotion\n",
    "def forward_prop(x,params):\n",
    "    a=x\n",
    "    caches=[]\n",
    "    l=len(params)//2\n",
    "    for l in range(1,l+1):\n",
    "        a_prev=a\n",
    "        z=np.dot(params['weights'+str(l)],a_prev)+params[\"bias\"+str(l)]\n",
    "        linear_cache=(a_prev,params['weights'+str(l)],params['bias'+str(l)])\n",
    "        a,activation_cache=sigmoid(z)\n",
    "        cache=(linear_cache,activation_cache)\n",
    "        caches.append(cache)\n",
    "    return a,caches"
   ]
  },
  {
   "cell_type": "code",
   "execution_count": 9,
   "id": "659f74cd-361a-41f4-a348-29cac962c335",
   "metadata": {},
   "outputs": [],
   "source": [
    "def cost_function(A, Y):\n",
    "    m = Y.shape[1]\n",
    "    cost = (-1/m) * np.sum(Y * np.log(A) + (1 - Y) * np.log(1 - A)) \n",
    "    return cost"
   ]
  },
  {
   "cell_type": "code",
   "execution_count": 11,
   "id": "5280fca4-c6e2-4a55-87c8-706abbc24025",
   "metadata": {},
   "outputs": [],
   "source": [
    "def one_layer_backward(dA, cache):\n",
    "    linear_cache, activation_cache = cache\n",
    "    Z = activation_cache\n",
    "    sig, _ = sigmoid(Z)\n",
    "    dZ = dA * sig * (1 - sig)\n",
    "    A_prev, W, b = linear_cache\n",
    "    m = A_prev.shape[1]\n",
    "    dW = (1/m) * np.dot(dZ, A_prev.T)\n",
    "    db = (1/m) * np.sum(dZ, axis=1, keepdims=True)\n",
    "    dA_prev = np.dot(W.T, dZ)\n",
    "    return dA_prev, dW, db"
   ]
  },
  {
   "cell_type": "code",
   "execution_count": 13,
   "id": "7ffb11ef-a5a7-4504-b60a-f6cecdb0a912",
   "metadata": {},
   "outputs": [],
   "source": [
    "def backprop(AL, Y, caches):\n",
    "    grads = {}\n",
    "    L = len(caches)\n",
    "    m = AL.shape[1]\n",
    "    Y = Y.reshape(AL.shape)\n",
    "\n",
    "    dAL = -(np.divide(Y, AL) - np.divide(1-Y, 1-AL))\n",
    "\n",
    "    current_cache = caches[L-1]\n",
    "    grads['dA'+str(L)], grads['dW'+str(L)], grads['db'+str(L)] = one_layer_backward(dAL, current_cache)\n",
    "\n",
    "    for l in reversed(range(L-1)):\n",
    "\n",
    "        current_cache = caches[l]\n",
    "        dA_prev_temp, dW_temp, db_temp = one_layer_backward(grads[\"dA\" + str(l+2)], current_cache)\n",
    "        grads[\"dA\" + str(l + 1)] = dA_prev_temp\n",
    "        grads[\"dW\" + str(l + 1)] = dW_temp\n",
    "        grads[\"db\" + str(l + 1)] = db_temp\n",
    "\n",
    "    return grads"
   ]
  },
  {
   "cell_type": "code",
   "execution_count": 15,
   "id": "ecb71e3f-ae99-48db-993f-d5ac212b01c0",
   "metadata": {},
   "outputs": [],
   "source": [
    "def update_parameters(params, grads, learning_rate):\n",
    "    L = len(params) // 2\n",
    "    for l in range(1, L + 1):\n",
    "        params['weights' + str(l)] -= learning_rate * grads['dW' + str(l)]\n",
    "        params['bias' + str(l)] -= learning_rate * grads['db' + str(l)]\n",
    "    return params"
   ]
  },
  {
   "cell_type": "code",
   "execution_count": 17,
   "id": "b7e3d7cf-4db1-4a99-887d-3550c51cd669",
   "metadata": {},
   "outputs": [],
   "source": [
    "def train(X, Y, layer_dims, epochs, lr):\n",
    "    params = initial_params(layer_dims)\n",
    "    cost_history = []\n",
    "    for i in range(epochs):\n",
    "        Y_hat, caches = forward_prop(X, params)\n",
    "        cost = cost_function(Y_hat, Y)\n",
    "        cost_history.append(cost)\n",
    "        grads = backprop(Y_hat, Y, caches)\n",
    "\n",
    "        params = update_parameters(params, grads, lr)\n",
    "\n",
    "\n",
    "    return params, cost_history"
   ]
  },
  {
   "cell_type": "code",
   "execution_count": 19,
   "id": "00bb22c4-7c5b-4c6d-8522-66b850a64537",
   "metadata": {},
   "outputs": [],
   "source": [
    "def predict(X, params):\n",
    "    Y_hat, _ = forward_prop(X, params)\n",
    "    predictions = (Y_hat > 0.5)  # Threshold at 0.5\n",
    "    return predictions"
   ]
  },
  {
   "cell_type": "code",
   "execution_count": 21,
   "id": "59c3af49-6f6c-4e1c-92a0-7b011d0803b0",
   "metadata": {},
   "outputs": [
    {
     "data": {
      "image/png": "[encoded data removed]",
      "text/plain": [
       "<Figure size 640x480 with 1 Axes>"
      ]
     },
     "metadata": {},
     "output_type": "display_data"
    },
    {
     "name": "stdout",
     "output_type": "stream",
     "text": [
      "Predictions: [[False False False False]]\n"
     ]
    }
   ],
   "source": [
    "# Define the data\n",
    "X = np.array([[0.1, 0.2, 0.3, 0.4], \n",
    "              [0.5, 0.6, 0.7, 0.8]])\n",
    "Y = np.array([[0, 1, 0, 1]])\n",
    "\n",
    "# Define the architecture\n",
    "layer_dims = [2, 3, 1]\n",
    "\n",
    "# Train the network\n",
    "params, cost_history = train(X, Y, layer_dims, epochs=1000, lr=0.01)\n",
    "\n",
    "# Plot the cost history\n",
    "plt.plot(cost_history)\n",
    "plt.xlabel(\"Epochs\")\n",
    "plt.ylabel(\"Cost\")\n",
    "plt.title(\"Training Loss Over Time\")\n",
    "plt.show()\n",
    "\n",
    "# Make predictions\n",
    "predictions = predict(X, params)\n",
    "print(\"Predictions:\", predictions)\n"
   ]
  },
  {
   "cell_type": "code",
   "execution_count": null,
   "id": "0166b5a3-79e8-4c16-8fd1-e92ec8afd964",
   "metadata": {},
   "outputs": [],
   "source": []
  },
  {
   "cell_type": "code",
   "execution_count": null,
   "id": "2afa4303-2516-49db-ba1a-06e26fc5577d",
   "metadata": {},
   "outputs": [],
   "source": []
  }
 ],
 "metadata": {
  "kernelspec": {
   "display_name": "Python 3 (ipykernel)",
   "language": "python",
   "name": "python3"
  },
  "language_info": {
   "codemirror_mode": {
    "name": "ipython",
    "version": 3
   },
   "file_extension": ".py",
   "mimetype": "text/x-python",
   "name": "python",
   "nbconvert_exporter": "python",
   "pygments_lexer": "ipython3",
   "version": "3.12.4"
  }
 },
 "nbformat": 4,
 "nbformat_minor": 5
}
